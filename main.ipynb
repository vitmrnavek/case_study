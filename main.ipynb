{
 "cells": [
  {
   "cell_type": "markdown",
   "metadata": {},
   "source": [
    "# Initialization"
   ]
  },
  {
   "cell_type": "markdown",
   "metadata": {},
   "source": [
    "## modules"
   ]
  },
  {
   "cell_type": "code",
   "execution_count": 2,
   "metadata": {},
   "outputs": [
    {
     "name": "stdout",
     "output_type": "stream",
     "text": [
      "2025-04-15 17:58:39,504 - database-queries - INFO - Initializing ConnectionConfig with path: config.yaml\n",
      "2025-04-15 17:58:39,622 - database-queries - INFO - Loading configuration from config.yaml\n",
      "2025-04-15 17:58:39,776 - database-queries - INFO - Processing connection configuration for: postgres_datamancers\n",
      "2025-04-15 17:58:39,916 - database-queries - INFO - Successfully configured connection: postgres_datamancers\n",
      "2025-04-15 17:58:40,077 - database-queries - INFO - Processing connection configuration for: datamancers\n",
      "2025-04-15 17:58:40,224 - database-queries - INFO - Successfully configured connection: datamancers\n",
      "2025-04-15 17:58:40,386 - database-queries - INFO - ConnectionConfig initialization completed\n"
     ]
    }
   ],
   "source": [
    "from case_study.integrations.database import  connections\n",
    "from case_study.integrations.duckdb import DuckDBIntegrator\n",
    "from case_study.ai_join_advisor import SmartJoinBuilder\n",
    "from case_study.jupyter_ui import select_databases_widget,select_tables_widget"
   ]
  },
  {
   "cell_type": "markdown",
   "metadata": {},
   "source": [
    "## Required objects\n",
    "- SmartJoinBuilder() - class that suggest join between two selected tables\n",
    "- DuckDbIntegrator() - class for querying across multiple (types) of databases within single query  "
   ]
  },
  {
   "cell_type": "code",
   "execution_count": 3,
   "metadata": {},
   "outputs": [
    {
     "name": "stdout",
     "output_type": "stream",
     "text": [
      "2025-04-15 17:58:42,328 - join-advisor - INFO - Initializing SmartJoinBuilder with config path: config.yaml\n",
      "2025-04-15 17:58:42,721 - duckdb-integrator - INFO - Initializing DuckDB integrator with config path: config.yaml\n",
      "2025-04-15 17:58:42,871 - duckdb-integrator - INFO - Using DuckDB database path: data/duckdb_logs.db\n",
      "2025-04-15 17:58:43,024 - duckdb-integrator - INFO - Ensured database directory exists: data\n",
      "2025-04-15 17:58:43,172 - duckdb-integrator - INFO - DuckDB connection established\n",
      "2025-04-15 17:58:43,339 - database-queries - INFO - Initializing ConnectionConfig with path: config.yaml\n",
      "2025-04-15 17:58:43,488 - database-queries - INFO - Loading configuration from config.yaml\n",
      "2025-04-15 17:58:43,652 - database-queries - INFO - Processing connection configuration for: postgres_datamancers\n",
      "2025-04-15 17:58:43,779 - database-queries - INFO - Successfully configured connection: postgres_datamancers\n",
      "2025-04-15 17:58:43,922 - database-queries - INFO - Processing connection configuration for: datamancers\n",
      "2025-04-15 17:58:44,068 - database-queries - INFO - Successfully configured connection: datamancers\n",
      "2025-04-15 17:58:44,230 - database-queries - INFO - ConnectionConfig initialization completed\n",
      "2025-04-15 17:58:44,402 - duckdb-integrator - INFO - Configuration loaded\n",
      "2025-04-15 17:58:44,511 - duckdb-integrator - INFO - Setting up database connections\n",
      "2025-04-15 17:58:44,645 - duckdb-integrator - INFO - Installing and loading PostgreSQL extension\n",
      "2025-04-15 17:58:44,836 - duckdb-integrator - INFO - PostgreSQL extension loaded successfully\n",
      "2025-04-15 17:58:44,995 - duckdb-integrator - INFO - Setting up PostgreSQL connection: postgres_datamancers\n",
      "2025-04-15 17:58:45,661 - duckdb-integrator - INFO - PostgreSQL connection postgres_datamancers setup successfully\n",
      "2025-04-15 17:58:45,817 - duckdb-integrator - INFO - Setting up BigQuery connection: datamancers\n",
      "2025-04-15 17:58:45,922 - duckdb-integrator - INFO - BigQuery connection datamancers setup successfully\n",
      "2025-04-15 17:58:46,096 - duckdb-integrator - INFO - Setting up query logging table\n",
      "2025-04-15 17:58:46,212 - duckdb-integrator - INFO - Query logging table created successfully\n",
      "2025-04-15 17:58:46,330 - duckdb-integrator - INFO - DuckDB integrator initialization completed\n",
      "2025-04-15 17:58:46,465 - database-queries - INFO - Initializing ConnectionConfig with path: config.yaml\n",
      "2025-04-15 17:58:46,592 - database-queries - INFO - Loading configuration from config.yaml\n",
      "2025-04-15 17:58:46,762 - database-queries - INFO - Processing connection configuration for: postgres_datamancers\n",
      "2025-04-15 17:58:46,970 - database-queries - INFO - Successfully configured connection: postgres_datamancers\n",
      "2025-04-15 17:58:47,113 - database-queries - INFO - Processing connection configuration for: datamancers\n",
      "2025-04-15 17:58:47,299 - database-queries - INFO - Successfully configured connection: datamancers\n",
      "2025-04-15 17:58:47,425 - database-queries - INFO - ConnectionConfig initialization completed\n",
      "2025-04-15 17:58:47,579 - join-advisor - INFO - SmartJoinBuilder initialized successfully\n",
      "2025-04-15 17:58:47,755 - duckdb-integrator - INFO - Initializing DuckDB integrator with config path: config.yaml\n",
      "2025-04-15 17:58:47,918 - duckdb-integrator - INFO - Using DuckDB database path: data/duckdb_logs.db\n",
      "2025-04-15 17:58:48,103 - duckdb-integrator - INFO - Ensured database directory exists: data\n",
      "2025-04-15 17:58:48,249 - duckdb-integrator - INFO - DuckDB connection established\n",
      "2025-04-15 17:58:48,373 - database-queries - INFO - Initializing ConnectionConfig with path: config.yaml\n",
      "2025-04-15 17:58:48,493 - database-queries - INFO - Loading configuration from config.yaml\n",
      "2025-04-15 17:58:48,659 - database-queries - INFO - Processing connection configuration for: postgres_datamancers\n",
      "2025-04-15 17:58:48,804 - database-queries - INFO - Successfully configured connection: postgres_datamancers\n",
      "2025-04-15 17:58:48,912 - database-queries - INFO - Processing connection configuration for: datamancers\n",
      "2025-04-15 17:58:49,065 - database-queries - INFO - Successfully configured connection: datamancers\n",
      "2025-04-15 17:58:49,229 - database-queries - INFO - ConnectionConfig initialization completed\n",
      "2025-04-15 17:58:49,359 - duckdb-integrator - INFO - Configuration loaded\n",
      "2025-04-15 17:58:49,515 - duckdb-integrator - INFO - Setting up database connections\n",
      "2025-04-15 17:58:49,652 - duckdb-integrator - INFO - Installing and loading PostgreSQL extension\n",
      "2025-04-15 17:58:49,805 - duckdb-integrator - INFO - PostgreSQL extension loaded successfully\n",
      "2025-04-15 17:58:49,938 - duckdb-integrator - INFO - Setting up PostgreSQL connection: postgres_datamancers\n",
      "2025-04-15 17:58:50,546 - duckdb-integrator - ERROR - Failed to setup PostgreSQL connection postgres_datamancers: Binder Error: Failed to attach database: database with name \"postgres_db\" already exists\n",
      "2025-04-15 17:58:50,693 - duckdb-integrator - INFO - Setting up BigQuery connection: datamancers\n",
      "2025-04-15 17:58:50,862 - duckdb-integrator - INFO - BigQuery connection datamancers setup successfully\n",
      "2025-04-15 17:58:51,023 - duckdb-integrator - INFO - Setting up query logging table\n",
      "2025-04-15 17:58:51,161 - duckdb-integrator - INFO - Query logging table created successfully\n",
      "2025-04-15 17:58:51,342 - duckdb-integrator - INFO - DuckDB integrator initialization completed\n"
     ]
    }
   ],
   "source": [
    "builder = SmartJoinBuilder()\n",
    "query_engine = DuckDBIntegrator()"
   ]
  },
  {
   "cell_type": "markdown",
   "metadata": {},
   "source": [
    "# Workflow\n",
    "1. select databases to connect from your configuration file \n",
    "2. Smart Join Suggest (optional): do you want to join two tables across your connected databases but don't know how? Select them and let the ai give you the suggestion!\n",
    "3. Querying engine: Run your query across databases! You can query any data across your connections, just wrap the table reference into \"DB type function\" (e.g. BIGQUERY(project-id.dataset_id.table_id)) and let the magic flow! You can also join tables across databases!"
   ]
  },
  {
   "cell_type": "code",
   "execution_count": null,
   "metadata": {},
   "outputs": [
    {
     "name": "stdout",
     "output_type": "stream",
     "text": [
      "2025-04-15 17:50:01,140 - database-queries - INFO - Available connections: ['postgres_datamancers', 'datamancers']\n",
      "2025-04-15 17:50:01,291 - database-queries - INFO - Retrieving connection info for: postgres_datamancers\n",
      "2025-04-15 17:50:01,455 - database-queries - INFO - Retrieving connection info for: datamancers\n"
     ]
    },
    {
     "data": {
      "application/vnd.jupyter.widget-view+json": {
       "model_id": "b90931ad056c49e0ba6c29f9d223b44a",
       "version_major": 2,
       "version_minor": 0
      },
      "text/plain": [
       "VBox(children=(HTML(value='<h3>Available Database Connections:</h3>'), SelectMultiple(description='Select Data…"
      ]
     },
     "metadata": {},
     "output_type": "display_data"
    },
    {
     "data": {
      "text/plain": [
       "(SelectMultiple(description='Select Databases:', layout=Layout(width='auto'), options=(('postgres_datamancers (postgres)', 'postgres_datamancers'), ('datamancers (bigquery)', 'datamancers')), style=DescriptionStyle(description_width='initial'), value=()),)"
      ]
     },
     "execution_count": 3,
     "metadata": {},
     "output_type": "execute_result"
    }
   ],
   "source": [
    "select_databases_widget(connections,builder)"
   ]
  },
  {
   "cell_type": "code",
   "execution_count": 10,
   "metadata": {},
   "outputs": [
    {
     "data": {
      "application/vnd.jupyter.widget-view+json": {
       "model_id": "0929028b10bf45018f4f8dc1b627fcd8",
       "version_major": 2,
       "version_minor": 0
      },
      "text/plain": [
       "VBox(children=(HTML(value='<h3>Select Tables for Join:</h3>'), VBox(children=(Dropdown(description='First Tabl…"
      ]
     },
     "metadata": {},
     "output_type": "display_data"
    },
    {
     "data": {
      "text/plain": [
       "{'table1': None, 'table2': None}"
      ]
     },
     "execution_count": 10,
     "metadata": {},
     "output_type": "execute_result"
    }
   ],
   "source": [
    "select_tables_widget(builder)"
   ]
  },
  {
   "cell_type": "code",
   "execution_count": 7,
   "metadata": {},
   "outputs": [
    {
     "name": "stderr",
     "output_type": "stream",
     "text": [
      "/Users/vitmrnavek/projects/datamancers/clients/rohlik/case_study/venv/lib/python3.11/site-packages/google/cloud/bigquery/table.py:1933: UserWarning: BigQuery Storage module not found, fetch data with the REST endpoint instead.\n",
      "  warnings.warn(\n"
     ]
    },
    {
     "name": "stdout",
     "output_type": "stream",
     "text": [
      "2025-04-15 17:51:50,491 - duckdb-integrator - INFO - Logging query performance for source: bigquery\n",
      "2025-04-15 17:51:50,626 - duckdb-integrator - INFO - Query performance logged successfully\n",
      "2025-04-15 17:51:51,172 - duckdb-integrator - ERROR - Error parsing execution plan: Expecting value: line 1 column 1 (char 0)\n",
      "2025-04-15 17:51:51,288 - duckdb-integrator - INFO - Logging query performance for source: postgres\n",
      "2025-04-15 17:51:51,475 - duckdb-integrator - INFO - Query performance logged successfully\n",
      "2025-04-15 17:51:52,037 - duckdb-integrator - INFO - Logging query performance for source: duckdb\n",
      "2025-04-15 17:51:52,155 - duckdb-integrator - INFO - Query performance logged successfully\n"
     ]
    }
   ],
   "source": [
    "query=\"\"\"WITH\n",
    "    bq_data AS (\n",
    "        SELECT client_id, project_id, resource_id FROM BIGQUERY('datamancers.dbt.L1_POSTGRES__JOBS__planned_cleaned')\n",
    "    ), pg_data AS (\n",
    "        SELECT * FROM POSTGRES('public.project_resources_pricings'))\n",
    "        SELECT * FROM pg_data LEFT JOIN bq_data ON pg_data.project_id = bq_data.project_id\"\"\"\n",
    "\n",
    "data=query_engine.run_query(query)"
   ]
  },
  {
   "cell_type": "code",
   "execution_count": 4,
   "metadata": {},
   "outputs": [
    {
     "name": "stdout",
     "output_type": "stream",
     "text": [
      "2025-04-15 17:58:58,598 - join-advisor - INFO - Retrieving performance logs (start_time=None, end_time=None)\n",
      "2025-04-15 17:58:58,746 - duckdb-integrator - INFO - Retrieving query logs (start_time=None, end_time=None)\n",
      "2025-04-15 17:58:58,907 - duckdb-integrator - INFO - Retrieved 18 query log entries\n"
     ]
    },
    {
     "data": {
      "text/html": [
       "<div>\n",
       "<style scoped>\n",
       "    .dataframe tbody tr th:only-of-type {\n",
       "        vertical-align: middle;\n",
       "    }\n",
       "\n",
       "    .dataframe tbody tr th {\n",
       "        vertical-align: top;\n",
       "    }\n",
       "\n",
       "    .dataframe thead th {\n",
       "        text-align: right;\n",
       "    }\n",
       "</style>\n",
       "<table border=\"1\" class=\"dataframe\">\n",
       "  <thead>\n",
       "    <tr style=\"text-align: right;\">\n",
       "      <th></th>\n",
       "      <th>query_id</th>\n",
       "      <th>timestamp</th>\n",
       "      <th>source</th>\n",
       "      <th>query_text</th>\n",
       "      <th>execution_time_ms</th>\n",
       "      <th>rows_affected</th>\n",
       "      <th>execution_plan</th>\n",
       "      <th>error</th>\n",
       "    </tr>\n",
       "  </thead>\n",
       "  <tbody>\n",
       "    <tr>\n",
       "      <th>0</th>\n",
       "      <td>6584198339106515449</td>\n",
       "      <td>2025-04-15 17:58:17.642999</td>\n",
       "      <td>duckdb</td>\n",
       "      <td>WITH\\n    bq_data AS (\\n        SELECT client_...</td>\n",
       "      <td>37425.123</td>\n",
       "      <td>1985</td>\n",
       "      <td>{\"explain_analyze\": [\"analyzed_plan\"]}</td>\n",
       "      <td>None</td>\n",
       "    </tr>\n",
       "    <tr>\n",
       "      <th>1</th>\n",
       "      <td>5204762967287917805</td>\n",
       "      <td>2025-04-15 17:58:06.062143</td>\n",
       "      <td>postgres</td>\n",
       "      <td>SELECT * FROM public.project_resources_pricings</td>\n",
       "      <td>1636.492</td>\n",
       "      <td>25</td>\n",
       "      <td>{\"result_set_size\": 0, \"cumulative_rows_scanne...</td>\n",
       "      <td>None</td>\n",
       "    </tr>\n",
       "    <tr>\n",
       "      <th>2</th>\n",
       "      <td>5004238421755160957</td>\n",
       "      <td>2025-04-15 17:57:23.424100</td>\n",
       "      <td>bigquery</td>\n",
       "      <td>SELECT * FROM `datamancers.dbt.L1_POSTGRES__JO...</td>\n",
       "      <td>89.000</td>\n",
       "      <td>3331</td>\n",
       "      <td>{\"total_bytes_processed\": 0, \"total_bytes_bill...</td>\n",
       "      <td>None</td>\n",
       "    </tr>\n",
       "    <tr>\n",
       "      <th>3</th>\n",
       "      <td>7459996599962420906</td>\n",
       "      <td>2025-04-15 17:55:13.644479</td>\n",
       "      <td>bigquery</td>\n",
       "      <td>SELECT * FROM `datamancers.dbt.L1_POSTGRES__JO...</td>\n",
       "      <td>107.000</td>\n",
       "      <td>3331</td>\n",
       "      <td>{\"total_bytes_processed\": 0, \"total_bytes_bill...</td>\n",
       "      <td>None</td>\n",
       "    </tr>\n",
       "    <tr>\n",
       "      <th>4</th>\n",
       "      <td>4730250147978338446</td>\n",
       "      <td>2025-04-15 17:51:52.037499</td>\n",
       "      <td>duckdb</td>\n",
       "      <td>WITH\\n    bq_data AS (\\n        SELECT client_...</td>\n",
       "      <td>925.702</td>\n",
       "      <td>1985</td>\n",
       "      <td>{\"explain_analyze\": [\"analyzed_plan\"]}</td>\n",
       "      <td>None</td>\n",
       "    </tr>\n",
       "    <tr>\n",
       "      <th>5</th>\n",
       "      <td>2683042214955702766</td>\n",
       "      <td>2025-04-15 17:51:51.289199</td>\n",
       "      <td>postgres</td>\n",
       "      <td>SELECT * FROM public.project_resources_pricings</td>\n",
       "      <td>148.229</td>\n",
       "      <td>25</td>\n",
       "      <td>{}</td>\n",
       "      <td>Expecting value: line 1 column 1 (char 0)</td>\n",
       "    </tr>\n",
       "    <tr>\n",
       "      <th>6</th>\n",
       "      <td>6911884955644571003</td>\n",
       "      <td>2025-04-15 17:51:50.492404</td>\n",
       "      <td>bigquery</td>\n",
       "      <td>SELECT * FROM `datamancers.dbt.L1_POSTGRES__JO...</td>\n",
       "      <td>109.000</td>\n",
       "      <td>3331</td>\n",
       "      <td>{\"total_bytes_processed\": 0, \"total_bytes_bill...</td>\n",
       "      <td>None</td>\n",
       "    </tr>\n",
       "    <tr>\n",
       "      <th>7</th>\n",
       "      <td>6357741692435740746</td>\n",
       "      <td>2025-04-15 17:50:50.020964</td>\n",
       "      <td>duckdb</td>\n",
       "      <td>WITH\\n    bq_data AS (\\n        SELECT client_...</td>\n",
       "      <td>946.634</td>\n",
       "      <td>1985</td>\n",
       "      <td>{\"explain_analyze\": [\"analyzed_plan\"]}</td>\n",
       "      <td>None</td>\n",
       "    </tr>\n",
       "    <tr>\n",
       "      <th>8</th>\n",
       "      <td>7292616554699960895</td>\n",
       "      <td>2025-04-15 17:50:49.294337</td>\n",
       "      <td>postgres</td>\n",
       "      <td>SELECT * FROM public.project_resources_pricings</td>\n",
       "      <td>142.953</td>\n",
       "      <td>25</td>\n",
       "      <td>{}</td>\n",
       "      <td>Expecting value: line 1 column 1 (char 0)</td>\n",
       "    </tr>\n",
       "    <tr>\n",
       "      <th>9</th>\n",
       "      <td>5920777246850019964</td>\n",
       "      <td>2025-04-15 17:50:48.134909</td>\n",
       "      <td>bigquery</td>\n",
       "      <td>SELECT * FROM `datamancers.dbt.L1_POSTGRES__JO...</td>\n",
       "      <td>87.000</td>\n",
       "      <td>3331</td>\n",
       "      <td>{\"total_bytes_processed\": 0, \"total_bytes_bill...</td>\n",
       "      <td>None</td>\n",
       "    </tr>\n",
       "    <tr>\n",
       "      <th>10</th>\n",
       "      <td>1676675941317029207</td>\n",
       "      <td>2025-04-15 17:39:20.991866</td>\n",
       "      <td>duckdb</td>\n",
       "      <td>SELECT * FROM bq_temp_7559264918332020366 LIMIT 5</td>\n",
       "      <td>8561.103</td>\n",
       "      <td>5</td>\n",
       "      <td>{\"explain_analyze\": [\"analyzed_plan\"]}</td>\n",
       "      <td>None</td>\n",
       "    </tr>\n",
       "    <tr>\n",
       "      <th>11</th>\n",
       "      <td>6282837715287683043</td>\n",
       "      <td>2025-04-15 17:39:15.349489</td>\n",
       "      <td>bigquery</td>\n",
       "      <td>SELECT * FROM `datamancers.dbt.L2__JOBS__events`</td>\n",
       "      <td>98.000</td>\n",
       "      <td>3516</td>\n",
       "      <td>{\"total_bytes_processed\": 0, \"total_bytes_bill...</td>\n",
       "      <td>None</td>\n",
       "    </tr>\n",
       "    <tr>\n",
       "      <th>12</th>\n",
       "      <td>1494859315858657946</td>\n",
       "      <td>2025-04-15 17:39:09.322531</td>\n",
       "      <td>duckdb</td>\n",
       "      <td>SELECT * FROM postgres_db.public.projects LIMIT 5</td>\n",
       "      <td>18724.252</td>\n",
       "      <td>5</td>\n",
       "      <td>{\"explain_analyze\": [\"analyzed_plan\"]}</td>\n",
       "      <td>None</td>\n",
       "    </tr>\n",
       "    <tr>\n",
       "      <th>13</th>\n",
       "      <td>8015218326966216739</td>\n",
       "      <td>2025-04-15 17:33:14.378296</td>\n",
       "      <td>duckdb</td>\n",
       "      <td>SELECT * FROM POSTGRES(public.projects) LIMIT 5</td>\n",
       "      <td>998.272</td>\n",
       "      <td>0</td>\n",
       "      <td>{}</td>\n",
       "      <td>string indices must be integers, not 'str'</td>\n",
       "    </tr>\n",
       "    <tr>\n",
       "      <th>14</th>\n",
       "      <td>5902853791757115161</td>\n",
       "      <td>2025-04-15 17:22:53.212313</td>\n",
       "      <td>duckdb</td>\n",
       "      <td>SELECT * FROM bq_temp_4565583168864758885 LIMIT 5</td>\n",
       "      <td>3556.648</td>\n",
       "      <td>5</td>\n",
       "      <td>{\"explain_analyze\": [\"analyzed_plan\"]}</td>\n",
       "      <td>None</td>\n",
       "    </tr>\n",
       "    <tr>\n",
       "      <th>15</th>\n",
       "      <td>8297740871016363555</td>\n",
       "      <td>2025-04-15 17:22:52.909441</td>\n",
       "      <td>bigquery</td>\n",
       "      <td>SELECT * FROM `datamancers.dbt.L2__JOBS__events`</td>\n",
       "      <td>96.000</td>\n",
       "      <td>3516</td>\n",
       "      <td>{\"total_bytes_processed\": 0, \"total_bytes_bill...</td>\n",
       "      <td>None</td>\n",
       "    </tr>\n",
       "    <tr>\n",
       "      <th>16</th>\n",
       "      <td>5233769583790885430</td>\n",
       "      <td>2025-04-15 17:22:49.363235</td>\n",
       "      <td>duckdb</td>\n",
       "      <td>SELECT * FROM postgres_db.public.projects LIMIT 5</td>\n",
       "      <td>1485.399</td>\n",
       "      <td>5</td>\n",
       "      <td>{\"explain_analyze\": [\"analyzed_plan\"]}</td>\n",
       "      <td>None</td>\n",
       "    </tr>\n",
       "    <tr>\n",
       "      <th>17</th>\n",
       "      <td>3912955106954533453</td>\n",
       "      <td>2025-04-15 17:22:48.610099</td>\n",
       "      <td>postgres</td>\n",
       "      <td>SELECT * FROM public.projects</td>\n",
       "      <td>0.000</td>\n",
       "      <td>0</td>\n",
       "      <td>{}</td>\n",
       "      <td>None</td>\n",
       "    </tr>\n",
       "  </tbody>\n",
       "</table>\n",
       "</div>"
      ],
      "text/plain": [
       "               query_id                  timestamp    source  \\\n",
       "0   6584198339106515449 2025-04-15 17:58:17.642999    duckdb   \n",
       "1   5204762967287917805 2025-04-15 17:58:06.062143  postgres   \n",
       "2   5004238421755160957 2025-04-15 17:57:23.424100  bigquery   \n",
       "3   7459996599962420906 2025-04-15 17:55:13.644479  bigquery   \n",
       "4   4730250147978338446 2025-04-15 17:51:52.037499    duckdb   \n",
       "5   2683042214955702766 2025-04-15 17:51:51.289199  postgres   \n",
       "6   6911884955644571003 2025-04-15 17:51:50.492404  bigquery   \n",
       "7   6357741692435740746 2025-04-15 17:50:50.020964    duckdb   \n",
       "8   7292616554699960895 2025-04-15 17:50:49.294337  postgres   \n",
       "9   5920777246850019964 2025-04-15 17:50:48.134909  bigquery   \n",
       "10  1676675941317029207 2025-04-15 17:39:20.991866    duckdb   \n",
       "11  6282837715287683043 2025-04-15 17:39:15.349489  bigquery   \n",
       "12  1494859315858657946 2025-04-15 17:39:09.322531    duckdb   \n",
       "13  8015218326966216739 2025-04-15 17:33:14.378296    duckdb   \n",
       "14  5902853791757115161 2025-04-15 17:22:53.212313    duckdb   \n",
       "15  8297740871016363555 2025-04-15 17:22:52.909441  bigquery   \n",
       "16  5233769583790885430 2025-04-15 17:22:49.363235    duckdb   \n",
       "17  3912955106954533453 2025-04-15 17:22:48.610099  postgres   \n",
       "\n",
       "                                           query_text  execution_time_ms  \\\n",
       "0   WITH\\n    bq_data AS (\\n        SELECT client_...          37425.123   \n",
       "1     SELECT * FROM public.project_resources_pricings           1636.492   \n",
       "2   SELECT * FROM `datamancers.dbt.L1_POSTGRES__JO...             89.000   \n",
       "3   SELECT * FROM `datamancers.dbt.L1_POSTGRES__JO...            107.000   \n",
       "4   WITH\\n    bq_data AS (\\n        SELECT client_...            925.702   \n",
       "5     SELECT * FROM public.project_resources_pricings            148.229   \n",
       "6   SELECT * FROM `datamancers.dbt.L1_POSTGRES__JO...            109.000   \n",
       "7   WITH\\n    bq_data AS (\\n        SELECT client_...            946.634   \n",
       "8     SELECT * FROM public.project_resources_pricings            142.953   \n",
       "9   SELECT * FROM `datamancers.dbt.L1_POSTGRES__JO...             87.000   \n",
       "10  SELECT * FROM bq_temp_7559264918332020366 LIMIT 5           8561.103   \n",
       "11   SELECT * FROM `datamancers.dbt.L2__JOBS__events`             98.000   \n",
       "12  SELECT * FROM postgres_db.public.projects LIMIT 5          18724.252   \n",
       "13    SELECT * FROM POSTGRES(public.projects) LIMIT 5            998.272   \n",
       "14  SELECT * FROM bq_temp_4565583168864758885 LIMIT 5           3556.648   \n",
       "15   SELECT * FROM `datamancers.dbt.L2__JOBS__events`             96.000   \n",
       "16  SELECT * FROM postgres_db.public.projects LIMIT 5           1485.399   \n",
       "17                      SELECT * FROM public.projects              0.000   \n",
       "\n",
       "    rows_affected                                     execution_plan  \\\n",
       "0            1985             {\"explain_analyze\": [\"analyzed_plan\"]}   \n",
       "1              25  {\"result_set_size\": 0, \"cumulative_rows_scanne...   \n",
       "2            3331  {\"total_bytes_processed\": 0, \"total_bytes_bill...   \n",
       "3            3331  {\"total_bytes_processed\": 0, \"total_bytes_bill...   \n",
       "4            1985             {\"explain_analyze\": [\"analyzed_plan\"]}   \n",
       "5              25                                                 {}   \n",
       "6            3331  {\"total_bytes_processed\": 0, \"total_bytes_bill...   \n",
       "7            1985             {\"explain_analyze\": [\"analyzed_plan\"]}   \n",
       "8              25                                                 {}   \n",
       "9            3331  {\"total_bytes_processed\": 0, \"total_bytes_bill...   \n",
       "10              5             {\"explain_analyze\": [\"analyzed_plan\"]}   \n",
       "11           3516  {\"total_bytes_processed\": 0, \"total_bytes_bill...   \n",
       "12              5             {\"explain_analyze\": [\"analyzed_plan\"]}   \n",
       "13              0                                                 {}   \n",
       "14              5             {\"explain_analyze\": [\"analyzed_plan\"]}   \n",
       "15           3516  {\"total_bytes_processed\": 0, \"total_bytes_bill...   \n",
       "16              5             {\"explain_analyze\": [\"analyzed_plan\"]}   \n",
       "17              0                                                 {}   \n",
       "\n",
       "                                         error  \n",
       "0                                         None  \n",
       "1                                         None  \n",
       "2                                         None  \n",
       "3                                         None  \n",
       "4                                         None  \n",
       "5    Expecting value: line 1 column 1 (char 0)  \n",
       "6                                         None  \n",
       "7                                         None  \n",
       "8    Expecting value: line 1 column 1 (char 0)  \n",
       "9                                         None  \n",
       "10                                        None  \n",
       "11                                        None  \n",
       "12                                        None  \n",
       "13  string indices must be integers, not 'str'  \n",
       "14                                        None  \n",
       "15                                        None  \n",
       "16                                        None  \n",
       "17                                        None  "
      ]
     },
     "execution_count": 4,
     "metadata": {},
     "output_type": "execute_result"
    }
   ],
   "source": [
    "\n",
    "logs = builder.get_performance_logs()\n",
    "logs"
   ]
  }
 ],
 "metadata": {
  "kernelspec": {
   "display_name": "venv",
   "language": "python",
   "name": "python3"
  },
  "language_info": {
   "codemirror_mode": {
    "name": "ipython",
    "version": 3
   },
   "file_extension": ".py",
   "mimetype": "text/x-python",
   "name": "python",
   "nbconvert_exporter": "python",
   "pygments_lexer": "ipython3",
   "version": "3.11.6"
  }
 },
 "nbformat": 4,
 "nbformat_minor": 2
}
